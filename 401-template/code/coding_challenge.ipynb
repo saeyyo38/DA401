{
 "cells": [
  {
   "cell_type": "code",
   "execution_count": 22,
   "id": "c6e3a7ce",
   "metadata": {},
   "outputs": [],
   "source": [
    "import pandas as pd\n",
    "import numpy as np"
   ]
  },
  {
   "cell_type": "code",
   "execution_count": 6,
   "id": "7437b92e",
   "metadata": {},
   "outputs": [
    {
     "data": {
      "application/vnd.microsoft.datawrangler.viewer.v0+json": {
       "columns": [
        {
         "name": "index",
         "rawType": "int64",
         "type": "integer"
        },
        {
         "name": "Brand",
         "rawType": "object",
         "type": "string"
        },
        {
         "name": "Store Number",
         "rawType": "object",
         "type": "string"
        },
        {
         "name": "Store Name",
         "rawType": "object",
         "type": "string"
        },
        {
         "name": "Ownership Type",
         "rawType": "object",
         "type": "string"
        },
        {
         "name": "Street Address",
         "rawType": "object",
         "type": "string"
        },
        {
         "name": "City",
         "rawType": "object",
         "type": "string"
        },
        {
         "name": "State/Province",
         "rawType": "object",
         "type": "string"
        },
        {
         "name": "Country",
         "rawType": "object",
         "type": "string"
        },
        {
         "name": "Postcode",
         "rawType": "object",
         "type": "unknown"
        },
        {
         "name": "Phone Number",
         "rawType": "object",
         "type": "unknown"
        },
        {
         "name": "Timezone",
         "rawType": "object",
         "type": "string"
        },
        {
         "name": "Longitude",
         "rawType": "float64",
         "type": "float"
        },
        {
         "name": "Latitude",
         "rawType": "float64",
         "type": "float"
        }
       ],
       "ref": "5dafc180-c15e-4ba3-9ab7-921a6ff34ee6",
       "rows": [
        [
         "0",
         "Starbucks",
         "47370-257954",
         "Meritxell, 96",
         "Licensed",
         "Av. Meritxell, 96",
         "Andorra la Vella",
         "7",
         "AD",
         "AD500",
         "376818720",
         "GMT+1:00 Europe/Andorra",
         "1.53",
         "42.51"
        ],
        [
         "1",
         "Starbucks",
         "22331-212325",
         "Ajman Drive Thru",
         "Licensed",
         "1 Street 69, Al Jarf",
         "Ajman",
         "AJ",
         "AE",
         null,
         null,
         "GMT+04:00 Asia/Dubai",
         "55.47",
         "25.42"
        ],
        [
         "2",
         "Starbucks",
         "47089-256771",
         "Dana Mall",
         "Licensed",
         "Sheikh Khalifa Bin Zayed St.",
         "Ajman",
         "AJ",
         "AE",
         null,
         null,
         "GMT+04:00 Asia/Dubai",
         "55.47",
         "25.39"
        ],
        [
         "3",
         "Starbucks",
         "22126-218024",
         "Twofour 54",
         "Licensed",
         "Al Salam Street",
         "Abu Dhabi",
         "AZ",
         "AE",
         null,
         null,
         "GMT+04:00 Asia/Dubai",
         "54.38",
         "24.48"
        ],
        [
         "4",
         "Starbucks",
         "17127-178586",
         "Al Ain Tower",
         "Licensed",
         "Khaldiya Area, Abu Dhabi Island",
         "Abu Dhabi",
         "AZ",
         "AE",
         null,
         null,
         "GMT+04:00 Asia/Dubai",
         "54.54",
         "24.51"
        ]
       ],
       "shape": {
        "columns": 13,
        "rows": 5
       }
      },
      "text/html": [
       "<div>\n",
       "<style scoped>\n",
       "    .dataframe tbody tr th:only-of-type {\n",
       "        vertical-align: middle;\n",
       "    }\n",
       "\n",
       "    .dataframe tbody tr th {\n",
       "        vertical-align: top;\n",
       "    }\n",
       "\n",
       "    .dataframe thead th {\n",
       "        text-align: right;\n",
       "    }\n",
       "</style>\n",
       "<table border=\"1\" class=\"dataframe\">\n",
       "  <thead>\n",
       "    <tr style=\"text-align: right;\">\n",
       "      <th></th>\n",
       "      <th>Brand</th>\n",
       "      <th>Store Number</th>\n",
       "      <th>Store Name</th>\n",
       "      <th>Ownership Type</th>\n",
       "      <th>Street Address</th>\n",
       "      <th>City</th>\n",
       "      <th>State/Province</th>\n",
       "      <th>Country</th>\n",
       "      <th>Postcode</th>\n",
       "      <th>Phone Number</th>\n",
       "      <th>Timezone</th>\n",
       "      <th>Longitude</th>\n",
       "      <th>Latitude</th>\n",
       "    </tr>\n",
       "  </thead>\n",
       "  <tbody>\n",
       "    <tr>\n",
       "      <th>0</th>\n",
       "      <td>Starbucks</td>\n",
       "      <td>47370-257954</td>\n",
       "      <td>Meritxell, 96</td>\n",
       "      <td>Licensed</td>\n",
       "      <td>Av. Meritxell, 96</td>\n",
       "      <td>Andorra la Vella</td>\n",
       "      <td>7</td>\n",
       "      <td>AD</td>\n",
       "      <td>AD500</td>\n",
       "      <td>376818720</td>\n",
       "      <td>GMT+1:00 Europe/Andorra</td>\n",
       "      <td>1.53</td>\n",
       "      <td>42.51</td>\n",
       "    </tr>\n",
       "    <tr>\n",
       "      <th>1</th>\n",
       "      <td>Starbucks</td>\n",
       "      <td>22331-212325</td>\n",
       "      <td>Ajman Drive Thru</td>\n",
       "      <td>Licensed</td>\n",
       "      <td>1 Street 69, Al Jarf</td>\n",
       "      <td>Ajman</td>\n",
       "      <td>AJ</td>\n",
       "      <td>AE</td>\n",
       "      <td>NaN</td>\n",
       "      <td>NaN</td>\n",
       "      <td>GMT+04:00 Asia/Dubai</td>\n",
       "      <td>55.47</td>\n",
       "      <td>25.42</td>\n",
       "    </tr>\n",
       "    <tr>\n",
       "      <th>2</th>\n",
       "      <td>Starbucks</td>\n",
       "      <td>47089-256771</td>\n",
       "      <td>Dana Mall</td>\n",
       "      <td>Licensed</td>\n",
       "      <td>Sheikh Khalifa Bin Zayed St.</td>\n",
       "      <td>Ajman</td>\n",
       "      <td>AJ</td>\n",
       "      <td>AE</td>\n",
       "      <td>NaN</td>\n",
       "      <td>NaN</td>\n",
       "      <td>GMT+04:00 Asia/Dubai</td>\n",
       "      <td>55.47</td>\n",
       "      <td>25.39</td>\n",
       "    </tr>\n",
       "    <tr>\n",
       "      <th>3</th>\n",
       "      <td>Starbucks</td>\n",
       "      <td>22126-218024</td>\n",
       "      <td>Twofour 54</td>\n",
       "      <td>Licensed</td>\n",
       "      <td>Al Salam Street</td>\n",
       "      <td>Abu Dhabi</td>\n",
       "      <td>AZ</td>\n",
       "      <td>AE</td>\n",
       "      <td>NaN</td>\n",
       "      <td>NaN</td>\n",
       "      <td>GMT+04:00 Asia/Dubai</td>\n",
       "      <td>54.38</td>\n",
       "      <td>24.48</td>\n",
       "    </tr>\n",
       "    <tr>\n",
       "      <th>4</th>\n",
       "      <td>Starbucks</td>\n",
       "      <td>17127-178586</td>\n",
       "      <td>Al Ain Tower</td>\n",
       "      <td>Licensed</td>\n",
       "      <td>Khaldiya Area, Abu Dhabi Island</td>\n",
       "      <td>Abu Dhabi</td>\n",
       "      <td>AZ</td>\n",
       "      <td>AE</td>\n",
       "      <td>NaN</td>\n",
       "      <td>NaN</td>\n",
       "      <td>GMT+04:00 Asia/Dubai</td>\n",
       "      <td>54.54</td>\n",
       "      <td>24.51</td>\n",
       "    </tr>\n",
       "  </tbody>\n",
       "</table>\n",
       "</div>"
      ],
      "text/plain": [
       "       Brand  Store Number        Store Name Ownership Type  \\\n",
       "0  Starbucks  47370-257954     Meritxell, 96       Licensed   \n",
       "1  Starbucks  22331-212325  Ajman Drive Thru       Licensed   \n",
       "2  Starbucks  47089-256771         Dana Mall       Licensed   \n",
       "3  Starbucks  22126-218024        Twofour 54       Licensed   \n",
       "4  Starbucks  17127-178586      Al Ain Tower       Licensed   \n",
       "\n",
       "                    Street Address              City State/Province Country  \\\n",
       "0                Av. Meritxell, 96  Andorra la Vella              7      AD   \n",
       "1             1 Street 69, Al Jarf             Ajman             AJ      AE   \n",
       "2     Sheikh Khalifa Bin Zayed St.             Ajman             AJ      AE   \n",
       "3                  Al Salam Street         Abu Dhabi             AZ      AE   \n",
       "4  Khaldiya Area, Abu Dhabi Island         Abu Dhabi             AZ      AE   \n",
       "\n",
       "  Postcode Phone Number                 Timezone  Longitude  Latitude  \n",
       "0    AD500    376818720  GMT+1:00 Europe/Andorra       1.53     42.51  \n",
       "1      NaN          NaN     GMT+04:00 Asia/Dubai      55.47     25.42  \n",
       "2      NaN          NaN     GMT+04:00 Asia/Dubai      55.47     25.39  \n",
       "3      NaN          NaN     GMT+04:00 Asia/Dubai      54.38     24.48  \n",
       "4      NaN          NaN     GMT+04:00 Asia/Dubai      54.54     24.51  "
      ]
     },
     "execution_count": 6,
     "metadata": {},
     "output_type": "execute_result"
    }
   ],
   "source": [
    "data = pd.read_csv(\"starbucks_locations.csv\")\n",
    "data.head()"
   ]
  },
  {
   "cell_type": "code",
   "execution_count": null,
   "id": "00290fe4",
   "metadata": {},
   "outputs": [],
   "source": [
    "def starbucksfiner(Lat, Long, N):\n",
    "    #load data\n",
    "    data = pd.read_csv(\"starbucks_locations.csv\")\n",
    "    #calculate the distance\n",
    "    data[\"distance\"] = np.sqrt((Long - data[\"Longitude\"]) ** 2 + (Lat - data[\"Latitude\"]) ** 2)\n",
    "    #sort the distance and print the result\n",
    "    top_N_rows = data.nsmallest(N, 'distance')\n",
    "    #return class\n",
    "    return top_N_rows[[\"Store Name\"]]"
   ]
  },
  {
   "cell_type": "code",
   "execution_count": 21,
   "id": "72ba7841",
   "metadata": {},
   "outputs": [
    {
     "data": {
      "application/vnd.microsoft.datawrangler.viewer.v0+json": {
       "columns": [
        {
         "name": "index",
         "rawType": "int64",
         "type": "integer"
        },
        {
         "name": "Store Name",
         "rawType": "object",
         "type": "string"
        }
       ],
       "ref": "0a0542a6-26a3-4aaa-ac58-4dd01cfc12f7",
       "rows": [
        [
         "10663",
         "Mega Rostov-on-Don"
        ],
        [
         "10664",
         "Gorizont"
        ],
        [
         "10662",
         "B. Sadovaya 81"
        ],
        [
         "10579",
         "Krasnaya 68"
        ],
        [
         "10580",
         "Krasnaya 108"
        ]
       ],
       "shape": {
        "columns": 1,
        "rows": 5
       }
      },
      "text/html": [
       "<div>\n",
       "<style scoped>\n",
       "    .dataframe tbody tr th:only-of-type {\n",
       "        vertical-align: middle;\n",
       "    }\n",
       "\n",
       "    .dataframe tbody tr th {\n",
       "        vertical-align: top;\n",
       "    }\n",
       "\n",
       "    .dataframe thead th {\n",
       "        text-align: right;\n",
       "    }\n",
       "</style>\n",
       "<table border=\"1\" class=\"dataframe\">\n",
       "  <thead>\n",
       "    <tr style=\"text-align: right;\">\n",
       "      <th></th>\n",
       "      <th>Store Name</th>\n",
       "    </tr>\n",
       "  </thead>\n",
       "  <tbody>\n",
       "    <tr>\n",
       "      <th>10663</th>\n",
       "      <td>Mega Rostov-on-Don</td>\n",
       "    </tr>\n",
       "    <tr>\n",
       "      <th>10664</th>\n",
       "      <td>Gorizont</td>\n",
       "    </tr>\n",
       "    <tr>\n",
       "      <th>10662</th>\n",
       "      <td>B. Sadovaya 81</td>\n",
       "    </tr>\n",
       "    <tr>\n",
       "      <th>10579</th>\n",
       "      <td>Krasnaya 68</td>\n",
       "    </tr>\n",
       "    <tr>\n",
       "      <th>10580</th>\n",
       "      <td>Krasnaya 108</td>\n",
       "    </tr>\n",
       "  </tbody>\n",
       "</table>\n",
       "</div>"
      ],
      "text/plain": [
       "               Store Name\n",
       "10663  Mega Rostov-on-Don\n",
       "10664            Gorizont\n",
       "10662      B. Sadovaya 81\n",
       "10579         Krasnaya 68\n",
       "10580        Krasnaya 108"
      ]
     },
     "execution_count": 21,
     "metadata": {},
     "output_type": "execute_result"
    }
   ],
   "source": [
    "starbucksfiner(50, 40, 5)"
   ]
  },
  {
   "cell_type": "code",
   "execution_count": null,
   "id": "c23f54d3",
   "metadata": {},
   "outputs": [],
   "source": []
  }
 ],
 "metadata": {
  "kernelspec": {
   "display_name": "base",
   "language": "python",
   "name": "python3"
  },
  "language_info": {
   "codemirror_mode": {
    "name": "ipython",
    "version": 3
   },
   "file_extension": ".py",
   "mimetype": "text/x-python",
   "name": "python",
   "nbconvert_exporter": "python",
   "pygments_lexer": "ipython3",
   "version": "3.11.11"
  }
 },
 "nbformat": 4,
 "nbformat_minor": 5
}
